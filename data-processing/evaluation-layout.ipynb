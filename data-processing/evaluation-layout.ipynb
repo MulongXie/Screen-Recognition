{
 "cells": [
  {
   "cell_type": "code",
   "execution_count": 1,
   "metadata": {},
   "outputs": [],
   "source": [
    "import json\n",
    "import os\n",
    "from os.path import join as pjoin\n",
    "import cv2\n",
    "\n",
    "import sys\n",
    "from tqdm import tqdm\n",
    "import numpy as np"
   ]
  },
  {
   "cell_type": "code",
   "execution_count": 2,
   "metadata": {},
   "outputs": [],
   "source": [
    "def draw_label(img, bound, color, text=None, put_text=True):\n",
    "    cv2.rectangle(img, (bound[0], bound[1]), (bound[2], bound[3]), color, 3)\n",
    "    if put_text:\n",
    "        # put text with rectangle \n",
    "        (w,h),_ = cv2.getTextSize(text, cv2.FONT_HERSHEY_SIMPLEX, 1.6, 3)\n",
    "        cv2.rectangle(img, (bound[0], bound[1] - 40), (bound[0] + w, bound[1] - 40 + h), color, -1)\n",
    "        cv2.putText(img, text, (bound[0], bound[1] - 10), cv2.FONT_HERSHEY_SIMPLEX, 1.5, (255,255,255), 3) \n",
    "\n",
    "\n",
    "def visualize_list(img, data, show=True):\n",
    "    board = img.copy()\n",
    "    is_drawn = False\n",
    "    \n",
    "#     if data['vertical_groups'] is not None:\n",
    "#         for g in data['vertical_groups']:\n",
    "#             draw_label(board, data['bounds'][g[0]], (0,0,166), 'vertical_groups')\n",
    "#             for compo_id in g[1:]:\n",
    "#                 b = data['bounds'][compo_id]\n",
    "#                 draw_label(board, b, (0,0,166), put_text=False)\n",
    "#                 is_drawn = True\n",
    "\n",
    "#     if data['horizontal_groups'] is not None:\n",
    "#         for g in data['horizontal_groups']:\n",
    "#             draw_label(board, data['bounds'][g[0]], (166,0,0), 'horizontal_groups')\n",
    "#             for compo_id in g[1:]:\n",
    "#                 b = data['bounds'][compo_id]\n",
    "#                 draw_label(board, b, (166,0,0), put_text=False)\n",
    "#                 is_drawn = True\n",
    "                \n",
    "    if data['multitab_groups'] is not None:\n",
    "        for g in data['multitab_groups']:\n",
    "            draw_label(board, data['bounds'][g[0]], (166,0,166), 'multitab_groups')\n",
    "            for compo_id in g[1:]:\n",
    "                b = data['bounds'][compo_id]\n",
    "                draw_label(board, b, (166,0,166), put_text=False)\n",
    "                is_drawn = True\n",
    "    \n",
    "    if data['list_groups'] is not None:\n",
    "        for g in data['list_groups']:\n",
    "            draw_label(board, data['bounds'][g[0]], (166,100,255), 'list_groups')\n",
    "            for compo_id in g[1:]:\n",
    "                b = data['bounds'][compo_id]\n",
    "                draw_label(board, b, (166,100,255), put_text=False)\n",
    "                is_drawn = True        \n",
    "                \n",
    "    if data['pageindcator_groups'] is not None:\n",
    "        for g in data['pageindcator_groups']:\n",
    "            draw_label(board, data['bounds'][g[0]], (166,166,166), 'pageindcator_groups')\n",
    "            for compo_id in g[1:]:\n",
    "                b = data['bounds'][compo_id]\n",
    "                draw_label(board, b, (166,166,166), put_text=False)\n",
    "                is_drawn = True     \n",
    "        \n",
    "    if show and is_drawn:\n",
    "        cv2.imshow('data', cv2.resize(board, (500, 800)))\n",
    "        cv2.imshow('org', cv2.resize(img, (500, 800)))\n",
    "        key = cv2.waitKey(0)\n",
    "        return key\n",
    "    return None\n",
    "\n",
    "\n",
    "def visualize_results(result_root, image_name):\n",
    "    uied_result = cv2.imread(pjoin(result_root, 'uied', image_name + '.jpg'))\n",
    "    layout_result = cv2.imread(pjoin(result_root, 'layout', image_name + '-list.jpg'))\n",
    "    cv2.imshow('uied', cv2.resize(uied_result, (500, 800)))\n",
    "    cv2.imshow('layout', cv2.resize(layout_result, (500, 800)))\n",
    "    \n",
    "\n",
    "def visualize_ground_truth(image_name, gt_data):\n",
    "    img_file = pjoin(data_root, image_name + '.jpg')\n",
    "    img_data = gt_data[image_name]\n",
    "    img = cv2.imread(img_file)\n",
    "    \n",
    "    org_json_file = pjoin(data_root, image_name + '.json')\n",
    "    org_data = json.load(open(org_json_file))\n",
    "    org_shape = org_data['activity']['root']['bounds']\n",
    "    \n",
    "    img = cv2.resize(img, (1440, 2560))\n",
    "    return visualize_list(img, img_data)"
   ]
  },
  {
   "cell_type": "code",
   "execution_count": 3,
   "metadata": {},
   "outputs": [],
   "source": [
    "def print_groups(gt, result):\n",
    "    print('*** Ground Truth Number of groups:%d ***' % len(gt))\n",
    "    for group in gt:\n",
    "        print('Number of items:', len(group))\n",
    "        for item in group:\n",
    "            print(item)\n",
    "        \n",
    "    print('*** Result Number of groups:%d***' % len(result))\n",
    "    for group in result:\n",
    "        print('Number of items:', len(group))\n",
    "        for item in group:\n",
    "            print(item)\n",
    "\n",
    "\n",
    "def cvt_gt_data(gt_data):\n",
    "    gt_groups = []\n",
    "    lst = sorted(gt_data['list'].items(), key=lambda x: x[0])\n",
    "    lst_new = []\n",
    "    for l in lst:\n",
    "        if len(l[1]) > 0:\n",
    "             lst_new.append(l[1])\n",
    "    if len(lst_new) > 0: gt_groups.append(lst_new)\n",
    "        \n",
    "    multitab = sorted(gt_data['multitab'].items(), key=lambda x: x[0])\n",
    "    mb_new = []\n",
    "    for m in multitab:\n",
    "#         if len(m[1]) > 0:\n",
    "        mb_new.append(m[1])\n",
    "    if len(mb_new) > 0: gt_groups.append(mb_new)\n",
    "    return gt_groups\n",
    "\n",
    "\n",
    "def calc_matched_items_number(g1, g2):\n",
    "    matched_item_num = 0\n",
    "    # element number each item\n",
    "    matched_item_id = 0\n",
    "    for i in range(len(g1)):\n",
    "        for j in range(matched_item_id, len(g2)):\n",
    "            # compare the element number in the two list items\n",
    "            if abs(len(g1[i]) - len(g2[j])) <= 2:\n",
    "                matched_item_num += 1\n",
    "                matched_item_id = j + 1\n",
    "    return matched_item_num\n",
    "\n",
    "\n",
    "def evaluate_gui(gt_groups, result_groups, thresh=1):\n",
    "    correct_list_num = 0\n",
    "    correct_item_num = 0\n",
    "    \n",
    "    tp, fp, fn = 0, 0, len(gt_groups)\n",
    "    marked = np.full(len(gt_groups), False)\n",
    "    for res_group in result_groups:\n",
    "        matched = False\n",
    "        for j, gt_group in enumerate(gt_groups):\n",
    "            if marked[j]: continue\n",
    "            matched_items_num = calc_matched_items_number(gt_group, res_group)\n",
    "            if len(gt_group) - matched_items_num <= thresh:\n",
    "                tp += 1\n",
    "                fn -= 1\n",
    "                matched = True\n",
    "                marked[j] = True\n",
    "                break\n",
    "        if not matched:\n",
    "            fp += 1\n",
    "    return tp, fp, fn"
   ]
  },
  {
   "cell_type": "code",
   "execution_count": 32,
   "metadata": {},
   "outputs": [],
   "source": [
    "data_root = 'E:\\\\Mulong\\\\Datasets\\\\gui\\\\rico\\\\combined\\\\all'\n",
    "result_root_det = 'E:\\\\Mulong\\\\Result\\\\rico-layout\\\\result'\n",
    "result_root_gt_compo = 'E:\\\\Mulong\\\\Result\\\\rico-layout\\\\result-gt-compos-resize'\n",
    "group_data_gt = json.load(open('item_data_class.json'))\n",
    "gui_gt = json.load(open('valid_group_data.json'))"
   ]
  },
  {
   "cell_type": "code",
   "execution_count": 5,
   "metadata": {},
   "outputs": [],
   "source": [
    "def inspect_results(result_root, start_point = None, thresh=1):\n",
    "    start = False\n",
    "    for img_name in open('select.txt', 'r').readlines():\n",
    "        img_name = img_name.replace('\\n', '')\n",
    "        if start_point is None or img_name == start_point: start = True\n",
    "        if not start: continue\n",
    "        print('\\n', img_name)\n",
    "\n",
    "        group_gt = cvt_gt_data(group_data_gt[img_name])\n",
    "        group_result = json.load(open(pjoin(result_root, 'layout', img_name + '-list.json')))['list']\n",
    "        print('TP:%d FP:%d FN:%d' % evaluate_gui(group_gt, group_result, thresh=thresh))\n",
    "\n",
    "        print_groups(group_gt, group_result)\n",
    "        visualize_results(result_root, img_name)\n",
    "        key = visualize_ground_truth(img_name, gui_gt)\n",
    "        if key is not None and key != -1 and chr(key) == 'q':\n",
    "            break\n",
    "    cv2.destroyAllWindows()"
   ]
  },
  {
   "cell_type": "code",
   "execution_count": null,
   "metadata": {
    "scrolled": true
   },
   "outputs": [
    {
     "name": "stdout",
     "output_type": "stream",
     "text": [
      "\n",
      " 2114\n",
      "TP:0 FP:1 FN:1\n",
      "*** Ground Truth Number of groups:1 ***\n",
      "Number of items: 10\n",
      "['TextView', 'TextView']\n",
      "['TextView', 'TextView']\n",
      "['TextView', 'TextView', 'TextView']\n",
      "['TextView', 'TextView']\n",
      "['TextView']\n",
      "['TextView', 'TextView']\n",
      "['TextView']\n",
      "['TextView', 'TextView']\n",
      "['TextView', 'TextView']\n",
      "['TextView', 'TextView']\n",
      "*** Result Number of groups:1***\n",
      "Number of items: 8\n",
      "['Compo', 'Text']\n",
      "['Compo', 'Text']\n",
      "['Compo', 'Text']\n",
      "['Compo', 'Text']\n",
      "['Compo', 'Text']\n",
      "['Text', 'Compo']\n",
      "['Text', 'Compo']\n",
      "['Text', 'Compo']\n",
      "\n",
      " 30783\n",
      "TP:1 FP:0 FN:0\n",
      "*** Ground Truth Number of groups:1 ***\n",
      "Number of items: 8\n",
      "['TextView']\n",
      "['TextView']\n",
      "['TextView']\n",
      "['TextView']\n",
      "['TextView']\n",
      "['TextView']\n",
      "['TextView']\n",
      "['TextView', 'TextView']\n",
      "*** Result Number of groups:1***\n",
      "Number of items: 8\n",
      "['Text']\n",
      "['Text']\n",
      "['Text']\n",
      "['Text']\n",
      "['Text']\n",
      "['Text']\n",
      "['Text']\n",
      "['Text']\n",
      "\n",
      " 41634\n",
      "TP:0 FP:1 FN:1\n",
      "*** Ground Truth Number of groups:1 ***\n",
      "Number of items: 8\n",
      "['View', 'TextView']\n",
      "['View', 'TextView']\n",
      "['View', 'TextView']\n",
      "['View', 'TextView']\n",
      "['View', 'TextView']\n",
      "['View', 'TextView']\n",
      "['View', 'TextView']\n",
      "['View', 'TextView']\n",
      "*** Result Number of groups:1***\n",
      "Number of items: 4\n",
      "['Compo', 'Text', 'Compo', 'Text']\n",
      "['Compo', 'Text', 'Compo', 'Text']\n",
      "['Compo', 'Text', 'Compo', 'Text']\n",
      "['Compo', 'Text', 'Compo', 'Text']\n"
     ]
    }
   ],
   "source": [
    "inspect_results(result_root_gt_compo, None)"
   ]
  },
  {
   "cell_type": "code",
   "execution_count": null,
   "metadata": {},
   "outputs": [],
   "source": [
    "1176"
   ]
  },
  {
   "cell_type": "code",
   "execution_count": 8,
   "metadata": {},
   "outputs": [],
   "source": [
    "TP, FP, FN = 102, 890, 1120\n",
    "pre = TP / (TP+ FP)\n",
    "recall = TP / (TP + FN)\n",
    "f1 = (2 * pre * recall) / (pre + recall)"
   ]
  },
  {
   "cell_type": "code",
   "execution_count": null,
   "metadata": {},
   "outputs": [],
   "source": [
    "print(pre, recall, f1)"
   ]
  },
  {
   "cell_type": "code",
   "execution_count": 10,
   "metadata": {},
   "outputs": [],
   "source": [
    "TP, FP, FN = 136, 902, 1040\n",
    "pre = TP / (TP+ FP)\n",
    "recall = TP / (TP + FN)\n",
    "f1 = (2 * pre * recall) / (pre + recall)"
   ]
  },
  {
   "cell_type": "code",
   "execution_count": 11,
   "metadata": {},
   "outputs": [
    {
     "name": "stdout",
     "output_type": "stream",
     "text": [
      "0.13102119460500963 0.11564625850340136 0.12285456187895212\n"
     ]
    }
   ],
   "source": [
    "print(pre, recall, f1)"
   ]
  },
  {
   "cell_type": "code",
   "execution_count": null,
   "metadata": {},
   "outputs": [],
   "source": []
  },
  {
   "cell_type": "code",
   "execution_count": 7,
   "metadata": {},
   "outputs": [],
   "source": [
    "def evaluate_all(result_root, thresh=1):\n",
    "    TP, FP, FN = 0, 0, 0\n",
    "    for img_name in tqdm(open('select.txt', 'r').readlines()):\n",
    "        img_name = img_name.replace('\\n', '')\n",
    "\n",
    "        group_gt = cvt_gt_data(group_data_gt[img_name])\n",
    "        group_result = json.load(open(pjoin(result_root, 'layout', img_name + '-list.json')))['list']\n",
    "\n",
    "        tp, fp, fn = evaluate_gui(group_gt, group_result, thresh=thresh)\n",
    "        TP, FP, FN = TP + tp, FP + fp, FN + fn \n",
    "    #     print(img_name, tp, fp, fn)\n",
    "\n",
    "    pre = TP / (TP+ FP)\n",
    "    recall = TP / (TP + FN)\n",
    "    f1 = (2 * pre * recall) / (pre + recall)\n",
    "    print('TP:%d, FP:%d, FN:%d, Total:%d' % (TP, FP, FN, (TP + FN)))\n",
    "    print('Precision:%.3f, Recall:%.3f, F1:%.3f' %(pre, recall, f1))"
   ]
  },
  {
   "cell_type": "code",
   "execution_count": 30,
   "metadata": {},
   "outputs": [],
   "source": [
    "t = 4"
   ]
  },
  {
   "cell_type": "code",
   "execution_count": 31,
   "metadata": {
    "scrolled": true
   },
   "outputs": [
    {
     "name": "stderr",
     "output_type": "stream",
     "text": [
      "100%|████████████████████████████████████████████████████████████████████████████| 1091/1091 [00:00<00:00, 3064.14it/s]"
     ]
    },
    {
     "name": "stdout",
     "output_type": "stream",
     "text": [
      "TP:1030, FP:477, FN:149, Total:1179\n",
      "Precision:0.683, Recall:0.874, F1:0.767\n"
     ]
    },
    {
     "name": "stderr",
     "output_type": "stream",
     "text": [
      "\n"
     ]
    }
   ],
   "source": [
    "evaluate_all(result_root_gt_compo, t)"
   ]
  },
  {
   "cell_type": "code",
   "execution_count": 29,
   "metadata": {},
   "outputs": [
    {
     "name": "stderr",
     "output_type": "stream",
     "text": [
      "100%|████████████████████████████████████████████████████████████████████████████| 1091/1091 [00:00<00:00, 2933.16it/s]"
     ]
    },
    {
     "name": "stdout",
     "output_type": "stream",
     "text": [
      "TP:613, FP:790, FN:566, Total:1179\n",
      "Precision:0.437, Recall:0.520, F1:0.475\n"
     ]
    },
    {
     "name": "stderr",
     "output_type": "stream",
     "text": [
      "\n"
     ]
    }
   ],
   "source": [
    "evaluate_all(result_root_det, t)"
   ]
  }
 ],
 "metadata": {
  "kernelspec": {
   "display_name": "Python 3",
   "language": "python",
   "name": "python3"
  },
  "language_info": {
   "codemirror_mode": {
    "name": "ipython",
    "version": 3
   },
   "file_extension": ".py",
   "mimetype": "text/x-python",
   "name": "python",
   "nbconvert_exporter": "python",
   "pygments_lexer": "ipython3",
   "version": "3.5.6"
  }
 },
 "nbformat": 4,
 "nbformat_minor": 2
}
