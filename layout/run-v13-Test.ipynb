{
 "cells": [
  {
   "cell_type": "code",
   "execution_count": 1,
   "metadata": {},
   "outputs": [],
   "source": [
    "import numpy as np\n",
    "import pandas as pd\n",
    "\n",
    "from obj.Compos_DF import ComposDF\n",
    "from obj.Block import *\n",
    "from obj.Group import *\n",
    "from obj.Compo import *\n",
    "import lib.draw as draw"
   ]
  },
  {
   "cell_type": "code",
   "execution_count": 2,
   "metadata": {},
   "outputs": [],
   "source": [
    "name = 'data/input/9'\n",
    "compos_df = ComposDF(json_file=name + '-new.json', img_file=name + '.png')\n",
    "img = compos_df.img.copy()\n",
    "img_re = compos_df.img_resized.copy()"
   ]
  },
  {
   "cell_type": "code",
   "execution_count": 3,
   "metadata": {},
   "outputs": [],
   "source": [
    "# ***Step 1*** repetitive list recognition\n",
    "compos_df.repetitive_group_recognition()    # group, alignment_in_group, group_nontext, group_text\n",
    "# check_valid_group_by_interleaving(compos.compos_dataframe)\n",
    "compos_df.pair_groups()                     # group_pair, pair_to\n",
    "compos_df.list_item_partition()             # list_item"
   ]
  },
  {
   "cell_type": "code",
   "execution_count": 4,
   "metadata": {},
   "outputs": [],
   "source": [
    "# ***Step 2*** start wrapping compos into Compo objects \n",
    "lists, non_listed_compos = cvt_list_and_compos_by_pair_and_group(compos_df.compos_dataframe[1:])\n",
    "all_compos = lists + non_listed_compos"
   ]
  },
  {
   "cell_type": "code",
   "execution_count": 5,
   "metadata": {
    "scrolled": true
   },
   "outputs": [],
   "source": [
    "# ***Step 3*** slice compos as blocks\n",
    "blocks, non_blocked_compos = slice_blocks(lists + non_listed_compos, 'v')"
   ]
  },
  {
   "cell_type": "code",
   "execution_count": null,
   "metadata": {},
   "outputs": [],
   "source": []
  },
  {
   "cell_type": "code",
   "execution_count": 6,
   "metadata": {},
   "outputs": [],
   "source": [
    "visualize_Compos(all_compos, img_re)"
   ]
  },
  {
   "cell_type": "code",
   "execution_count": 7,
   "metadata": {},
   "outputs": [],
   "source": []
  },
  {
   "cell_type": "code",
   "execution_count": 9,
   "metadata": {},
   "outputs": [
    {
     "name": "stdout",
     "output_type": "stream",
     "text": [
      "{'column_min': 460, 'row_min': 300, 'row_max': 412, 'height': 112, 'class': 'List-multi', 'width': 131, 'column_max': 591}\n",
      "{'column_min': 23, 'row_min': 290, 'row_max': 759, 'height': 469, 'class': 'List-multi', 'width': 373, 'column_max': 396}\n",
      "{'column_min': 23, 'row_min': 225, 'row_max': 277, 'height': 52, 'class': 'List-multi', 'width': 410, 'column_max': 433}\n",
      "{'column_min': 461, 'row_min': 235, 'row_max': 259, 'height': 24, 'class': 'List-multi', 'width': 138, 'column_max': 599}\n",
      "{'column_min': 460, 'row_min': 254, 'row_max': 259, 'height': 5, 'class': 'List-single', 'width': 18, 'column_max': 478}\n",
      "{'column_min': 13, 'row_min': 1, 'row_max': 9, 'height': 8, 'class': 'List-single', 'width': 367, 'column_max': 380}\n",
      "{'column_min': 4, 'row_min': 0, 'row_max': 9, 'height': 9, 'class': 'List-single', 'width': 622, 'column_max': 626}\n",
      "{'column_min': 69, 'row_min': 55, 'row_max': 62, 'height': 7, 'class': 'List-single', 'width': 291, 'column_max': 360}\n",
      "{'column_min': 546, 'row_min': 224, 'row_max': 259, 'height': 35, 'class': 'List-single', 'width': 8, 'column_max': 554}\n",
      "{'column_min': 603, 'row_min': 85, 'row_max': 107, 'height': 22, 'class': 'List-single', 'width': 8, 'column_max': 611}\n",
      "{'column_min': 461, 'row_min': 282, 'row_max': 459, 'height': 177, 'class': 'List-single', 'width': 134, 'column_max': 595}\n",
      "{'column_min': 461, 'row_min': 223, 'row_max': 230, 'height': 7, 'class': 'List-single', 'width': 136, 'column_max': 597}\n",
      "{'column_min': 524, 'row_min': 1, 'row_max': 9, 'height': 8, 'class': 'Text', 'width': 85, 'column_max': 609}\n",
      "{'column_min': 21, 'row_min': 19, 'row_max': 42, 'height': 23, 'class': 'Text', 'width': 89, 'column_max': 110}\n",
      "{'column_min': 133, 'row_min': 20, 'row_max': 42, 'height': 22, 'class': 'Compo', 'width': 301, 'column_max': 434}\n",
      "{'column_min': 510, 'row_min': 25, 'row_max': 38, 'height': 13, 'class': 'Compo', 'width': 38, 'column_max': 548}\n",
      "{'column_min': 567, 'row_min': 27, 'row_max': 37, 'height': 10, 'class': 'Compo', 'width': 15, 'column_max': 582}\n",
      "{'column_min': 584, 'row_min': 28, 'row_max': 34, 'height': 6, 'class': 'Text', 'width': 14, 'column_max': 598}\n",
      "{'column_min': 24, 'row_min': 53, 'row_max': 63, 'height': 10, 'class': 'Compo', 'width': 28, 'column_max': 52}\n",
      "{'column_min': 460, 'row_min': 85, 'row_max': 172, 'height': 87, 'class': 'Compo', 'width': 140, 'column_max': 600}\n",
      "{'column_min': 23, 'row_min': 86, 'row_max': 221, 'height': 135, 'class': 'Compo', 'width': 410, 'column_max': 433}\n",
      "{'column_min': 462, 'row_min': 175, 'row_max': 189, 'height': 14, 'class': 'Compo', 'width': 13, 'column_max': 475}\n",
      "{'column_min': 480, 'row_min': 178, 'row_max': 185, 'height': 7, 'class': 'Text', 'width': 97, 'column_max': 577}\n",
      "{'column_min': 461, 'row_min': 207, 'row_max': 214, 'height': 7, 'class': 'Text', 'width': 32, 'column_max': 493}\n",
      "{'column_min': 495, 'row_min': 207, 'row_max': 213, 'height': 6, 'class': 'Compo', 'width': 14, 'column_max': 509}\n",
      "{'column_min': 500, 'row_min': 235, 'row_max': 259, 'height': 24, 'class': 'Compo', 'width': 19, 'column_max': 519}\n",
      "{'column_min': 224, 'row_min': 770, 'row_max': 778, 'height': 8, 'class': 'Compo', 'width': 8, 'column_max': 232}\n",
      "{'column_min': 462, 'row_min': 104, 'row_max': 171, 'height': 67, 'class': 'Block', 'width': 119, 'column_max': 581}\n",
      "{'column_min': 269, 'row_min': 86, 'row_max': 219, 'height': 133, 'class': 'Block', 'width': 163, 'column_max': 432}\n"
     ]
    }
   ],
   "source": [
    "for c in all_compos:\n",
    "    print(c.put_info())"
   ]
  }
 ],
 "metadata": {
  "kernelspec": {
   "display_name": "Python 3",
   "language": "python",
   "name": "python3"
  },
  "language_info": {
   "codemirror_mode": {
    "name": "ipython",
    "version": 3
   },
   "file_extension": ".py",
   "mimetype": "text/x-python",
   "name": "python",
   "nbconvert_exporter": "python",
   "pygments_lexer": "ipython3",
   "version": "3.5.6"
  }
 },
 "nbformat": 4,
 "nbformat_minor": 2
}
