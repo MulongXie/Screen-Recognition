{
 "cells": [
  {
   "cell_type": "code",
   "execution_count": 1,
   "metadata": {},
   "outputs": [],
   "source": [
    "import json\n",
    "from os.path import join as pjoin\n",
    "import cv2"
   ]
  },
  {
   "cell_type": "code",
   "execution_count": 2,
   "metadata": {},
   "outputs": [],
   "source": [
    "def draw_label(img, bound, color, text=None, put_text=True):\n",
    "    cv2.rectangle(img, (bound[0], bound[1]), (bound[2], bound[3]), color, 3)\n",
    "    if put_text:\n",
    "        # put text with rectangle \n",
    "        (w,h),_ = cv2.getTextSize(text, cv2.FONT_HERSHEY_SIMPLEX, 1.6, 3)\n",
    "        cv2.rectangle(img, (bound[0], bound[1] - 40), (bound[0] + w, bound[1] - 40 + h), color, -1)\n",
    "        cv2.putText(img, text, (bound[0], bound[1] - 10), cv2.FONT_HERSHEY_SIMPLEX, 1.5, (255,255,255), 3) \n",
    "\n",
    "\n",
    "def visualize_list(img, data, show=True):\n",
    "    board = img.copy()\n",
    "    is_drawn = False\n",
    "    \n",
    "    if data['vertical_groups'] is not None:\n",
    "        for g in data['vertical_groups']:\n",
    "            draw_label(board, data['bounds'][g[0]], (0,0,166), 'vertical_groups')\n",
    "            for compo_id in g[1:]:\n",
    "                b = data['bounds'][compo_id]\n",
    "                draw_label(board, b, (0,0,166), put_text=False)\n",
    "                is_drawn = True\n",
    "\n",
    "    if data['horizontal_groups'] is not None:\n",
    "        for g in data['horizontal_groups']:\n",
    "            draw_label(board, data['bounds'][g[0]], (166,0,0), 'horizontal_groups')\n",
    "            for compo_id in g[1:]:\n",
    "                b = data['bounds'][compo_id]\n",
    "                draw_label(board, b, (166,0,0), put_text=False)\n",
    "                is_drawn = True\n",
    "                \n",
    "    if data['multitab_groups'] is not None:\n",
    "        for g in data['multitab_groups']:\n",
    "            draw_label(board, data['bounds'][g[0]], (166,0,166), 'multitab_groups')\n",
    "            for compo_id in g[1:]:\n",
    "                b = data['bounds'][compo_id]\n",
    "                draw_label(board, b, (166,0,166), put_text=False)\n",
    "                is_drawn = True\n",
    "    \n",
    "    if data['list_groups'] is not None:\n",
    "        for g in data['list_groups']:\n",
    "            draw_label(board, data['bounds'][g[0]], (166,100,255), 'list_groups')\n",
    "            for compo_id in g[1:]:\n",
    "                b = data['bounds'][compo_id]\n",
    "                draw_label(board, b, (166,100,255), put_text=False)\n",
    "                is_drawn = True        \n",
    "                \n",
    "    if data['pageindcator_groups'] is not None:\n",
    "        for g in data['pageindcator_groups']:\n",
    "            draw_label(board, data['bounds'][g[0]], (166,166,166), 'pageindcator_groups')\n",
    "            for compo_id in g[1:]:\n",
    "                b = data['bounds'][compo_id]\n",
    "                draw_label(board, b, (166,166,166), put_text=False)\n",
    "                is_drawn = True     \n",
    "        \n",
    "    if show and is_drawn:\n",
    "        cv2.imshow('data', cv2.resize(board, (500, 800)))\n",
    "        key = cv2.waitKey(0)\n",
    "        return key\n",
    "    return None\n",
    "\n",
    "\n",
    "def visualize_results(image_name):\n",
    "    uied_result = cv2.imread(pjoin(result_root, 'uied', image_name + '.jpg'))\n",
    "    layout_result = cv2.imread(pjoin(result_root, 'layout', image_name + '-list.jpg'))\n",
    "    cv2.imshow('uied', uied_result)\n",
    "    cv2.imshow('layout', layout_result)\n",
    "    \n",
    "\n",
    "def visualize_ground_truth(image_name, gt_data):\n",
    "    img_file = pjoin(data_root, image_name + '.jpg')\n",
    "    img_data = gt_data[image_name]\n",
    "    img = cv2.imread(img_file)\n",
    "    \n",
    "    org_json_file = pjoin(data_root, image_name + '.json')\n",
    "    org_data = json.load(open(org_json_file))\n",
    "    org_shape = org_data['activity']['root']['bounds']\n",
    "    \n",
    "    img = cv2.resize(img, (org_shape[0] + org_shape[2], org_shape[1] + org_shape[3]))\n",
    "    return visualize_list(img, img_data)"
   ]
  },
  {
   "cell_type": "code",
   "execution_count": 3,
   "metadata": {},
   "outputs": [],
   "source": [
    "js = json.load(open('valid_group_data.json'))\n",
    "data_root = 'E:\\\\Mulong\\\\Datasets\\\\gui\\\\rico\\\\combined\\\\all'\n",
    "result_root = 'E:\\\\Temp\\\\data\\\\rico-layout\\\\result'"
   ]
  },
  {
   "cell_type": "code",
   "execution_count": 5,
   "metadata": {},
   "outputs": [
    {
     "name": "stdout",
     "output_type": "stream",
     "text": [
      "2114\n"
     ]
    }
   ],
   "source": [
    "f = open('select.txt', 'r')\n",
    "for img_name in f.readlines()[:200]:\n",
    "    img_name = img_name.replace('\\n', '')\n",
    "    print(img_name)\n",
    "    \n",
    "    visualize_results(img_name)\n",
    "    key = visualize_ground_truth(img_name, js)\n",
    "    if key is not None and key != -1 and chr(key) == 'q':\n",
    "        break\n",
    "cv2.destroyAllWindows()"
   ]
  },
  {
   "cell_type": "code",
   "execution_count": 6,
   "metadata": {},
   "outputs": [],
   "source": [
    "img = '2114'\n",
    "visualize_results(img)\n",
    "visualize_ground_truth(img, js)\n",
    "cv2.destroyAllWindows()"
   ]
  },
  {
   "cell_type": "code",
   "execution_count": null,
   "metadata": {},
   "outputs": [],
   "source": []
  },
  {
   "cell_type": "code",
   "execution_count": null,
   "metadata": {},
   "outputs": [],
   "source": []
  },
  {
   "cell_type": "code",
   "execution_count": 32,
   "metadata": {},
   "outputs": [
    {
     "name": "stdout",
     "output_type": "stream",
     "text": [
      "dict_keys(['horizontal_groups', 'ui', 'multitab_groups', 'pageindcator_groups', 'bounds', 'vertical_groups', 'list_groups', 'labels', 'clickables'])\n",
      "dict_keys(['horizontal_groups', 'ui', 'multitab_groups', 'pageindcator_groups', 'bounds', 'vertical_groups', 'list_groups', 'labels', 'clickables'])\n",
      "dict_keys(['horizontal_groups', 'ui', 'multitab_groups', 'pageindcator_groups', 'bounds', 'vertical_groups', 'list_groups', 'labels', 'clickables'])\n",
      "dict_keys(['horizontal_groups', 'ui', 'multitab_groups', 'pageindcator_groups', 'bounds', 'vertical_groups', 'list_groups', 'labels', 'clickables'])\n",
      "dict_keys(['horizontal_groups', 'ui', 'multitab_groups', 'pageindcator_groups', 'bounds', 'vertical_groups', 'list_groups', 'labels', 'clickables'])\n"
     ]
    }
   ],
   "source": [
    "for img_name in img_names:\n",
    "    img_data = js[img_name]\n",
    "    print(img_data.keys())"
   ]
  },
  {
   "cell_type": "code",
   "execution_count": null,
   "metadata": {},
   "outputs": [],
   "source": []
  }
 ],
 "metadata": {
  "kernelspec": {
   "display_name": "Python 3",
   "language": "python",
   "name": "python3"
  },
  "language_info": {
   "codemirror_mode": {
    "name": "ipython",
    "version": 3
   },
   "file_extension": ".py",
   "mimetype": "text/x-python",
   "name": "python",
   "nbconvert_exporter": "python",
   "pygments_lexer": "ipython3",
   "version": "3.5.6"
  }
 },
 "nbformat": 4,
 "nbformat_minor": 2
}
